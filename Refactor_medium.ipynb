{
 "cells": [
  {
   "cell_type": "code",
   "execution_count": 1,
   "id": "872147aa",
   "metadata": {},
   "outputs": [],
   "source": [
    "class plat:\n",
    "    def __init__(self):\n",
    "        self.is_mammal,self.has_fur,self.has_beak,self.has_tail,self.can_swim=True,True,True,True,True\n",
    "class cat:\n",
    "    def __init__(self):\n",
    "        self.is_mammal,self.has_fur,self.has_beak,self.has_tail,self.can_swim=True,True,False,True,True\n",
    "plat_perry=plat()\n",
    "simba=cat()"
   ]
  },
  {
   "cell_type": "code",
   "execution_count": 2,
   "id": "cceb9099",
   "metadata": {},
   "outputs": [
    {
     "name": "stdout",
     "output_type": "stream",
     "text": [
      "True\n",
      "False\n"
     ]
    }
   ],
   "source": [
    "'''Original code'''\n",
    "def is_platypus(self):\n",
    "    if self.is_mammal:\n",
    "        if self.has_fur:\n",
    "            if self.has_beak:\n",
    "                if self.has_tail:\n",
    "                    if self.can_swim:\n",
    "                        # It's a platypus!\n",
    "                        return True\n",
    "    # Not a platypus\n",
    "    return False\n",
    "print(is_platypus(plat_perry))\n",
    "print(is_platypus(simba))"
   ]
  },
  {
   "cell_type": "code",
   "execution_count": 3,
   "id": "e1e7a482",
   "metadata": {},
   "outputs": [
    {
     "name": "stdout",
     "output_type": "stream",
     "text": [
      "True\n",
      "False\n"
     ]
    }
   ],
   "source": [
    "'''Improved code by merging if statements'''\n",
    "def is_platypus(self):\n",
    "    if self.is_mammal and self.has_fur and self.has_beak and self.has_tail and self.can_swim:\n",
    "        # It's a platypus!\n",
    "        return True\n",
    "    # Not a platypus\n",
    "    return False\n",
    "print(is_platypus(plat_perry))\n",
    "print(is_platypus(simba))"
   ]
  },
  {
   "cell_type": "code",
   "execution_count": 6,
   "id": "e1a7d4cd",
   "metadata": {},
   "outputs": [
    {
     "name": "stdout",
     "output_type": "stream",
     "text": [
      "True\n",
      "False\n"
     ]
    }
   ],
   "source": [
    "'''Using Guard clauses\n",
    "Is longer but we avoid the confusion \n",
    "due to multiple indentation\n",
    "'''\n",
    "\n",
    "'''Code taken from https://github.com/icarovirtual/lemoncode/tree/master/guard-clauses'''\n",
    "\n",
    "def is_platypus(self):\n",
    "    # Not a platypus for everything below\n",
    "    if not self.is_mammal:\n",
    "        return False\n",
    "    if not self.has_fur:\n",
    "        return False\n",
    "    if not self.has_beak:\n",
    "        return False\n",
    "    if not self.has_tail:\n",
    "        return False\n",
    "    if not self.can_swim:\n",
    "        return False\n",
    "    # Finally, it's a platypus!\n",
    "    return True\n",
    "print(is_platypus(plat_perry))\n",
    "print(is_platypus(simba))"
   ]
  },
  {
   "cell_type": "code",
   "execution_count": null,
   "id": "87df4fdb",
   "metadata": {},
   "outputs": [],
   "source": [
    "def func_not_guarded(self, param):\n",
    "    if param == 'something':\n",
    "        self.counter += 1\n",
    "        if self.counter > 10:\n",
    "            self.reached_ten()\n",
    "        else:\n",
    "            if self.counter < 5:\n",
    "                self.has_not_reached_5()\n",
    "            else:\n",
    "                self.has_not_reached_5()\n",
    "    else:\n",
    "        self.counter -= 1\n",
    "\n",
    "\n",
    "def func_guarded(self, param):\n",
    "    if param != 'something':\n",
    "        self.counter -= 1\n",
    "        # You can call return even if the function doesn't return anything\n",
    "        return\n",
    "    # Important path in a low indentation level\n",
    "    self.counter += 1\n",
    "    if self.counter > 10:\n",
    "        self.reached_ten()\n",
    "        return\n",
    "    # By returning early, you don't need `else` statements\n",
    "    if self.counter < 5:\n",
    "        self.has_not_reached_5()\n",
    "        return\n",
    "    self.has_not_reached_5()"
   ]
  },
  {
   "cell_type": "code",
   "execution_count": 27,
   "id": "348532e8",
   "metadata": {
    "scrolled": true
   },
   "outputs": [
    {
     "data": {
      "text/plain": [
       "'\\nFor checking methods of an attribute\\na=-3.56\\nhelp(a)\\ndir(a)'"
      ]
     },
     "execution_count": 27,
     "metadata": {},
     "output_type": "execute_result"
    }
   ],
   "source": [
    "'''\n",
    "For checking methods of an attribute\n",
    "a=-3.56\n",
    "help(a)\n",
    "dir(a)'''"
   ]
  },
  {
   "cell_type": "code",
   "execution_count": null,
   "id": "35bc9be8",
   "metadata": {},
   "outputs": [],
   "source": []
  }
 ],
 "metadata": {
  "kernelspec": {
   "display_name": "torCH",
   "language": "python",
   "name": "torch"
  },
  "language_info": {
   "codemirror_mode": {
    "name": "ipython",
    "version": 3
   },
   "file_extension": ".py",
   "mimetype": "text/x-python",
   "name": "python",
   "nbconvert_exporter": "python",
   "pygments_lexer": "ipython3",
   "version": "3.9.7"
  }
 },
 "nbformat": 4,
 "nbformat_minor": 5
}
