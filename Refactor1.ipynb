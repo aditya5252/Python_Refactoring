{
 "cells": [
  {
   "cell_type": "code",
   "execution_count": null,
   "id": "6b3e28fb",
   "metadata": {},
   "outputs": [],
   "source": [
    "'''A word of Caution \n",
    "Simple is better\n",
    "Refactoring is only useful as long as it does not break your code.\n",
    "That is, the modified statement is exactly equivalent to the original statement.\n",
    "'''"
   ]
  },
  {
   "cell_type": "code",
   "execution_count": 6,
   "id": "c1d2ee10",
   "metadata": {},
   "outputs": [],
   "source": [
    "'''Tip 1 \n",
    "Merge Nested if statements '''\n",
    "a = (2>3)\n",
    "b = (4<=5)\n",
    "if not a :\n",
    "    if b:\n",
    "        print('Hello')        \n",
    "if (not a) and b:\n",
    "    print('Hello')"
   ]
  },
  {
   "cell_type": "code",
   "execution_count": 31,
   "id": "1a60c30c",
   "metadata": {},
   "outputs": [
    {
     "name": "stdout",
     "output_type": "stream",
     "text": [
      "True\n",
      "True\n"
     ]
    }
   ],
   "source": [
    "'''Tip 2\n",
    "Any instead of loop to check boolean condition in an iterable '''\n",
    "\n",
    "#To check if atleast 1 number in the list is +ve\n",
    "num_list=[-1,-2,-4,0,3,-7]\n",
    "has_positive=False\n",
    "for num in num_list:\n",
    "    if num>0:\n",
    "        has_positive=True\n",
    "        break\n",
    "print(has_positive)\n",
    "print(any(num>0 for num in num_list))"
   ]
  },
  {
   "cell_type": "code",
   "execution_count": 36,
   "id": "0f301453",
   "metadata": {},
   "outputs": [
    {
     "name": "stdout",
     "output_type": "stream",
     "text": [
      "My name is Person-0 and I live in London\n",
      "My name is Person-1 and I live in London\n",
      "My name is Person-2 and I live in London\n",
      "My name is Person-3 and I live in London\n",
      "My name is Person-4 and I live in London\n",
      "\n",
      "\n",
      "My name is Person-0 and I live in London\n",
      "My name is Person-1 and I live in London\n",
      "My name is Person-2 and I live in London\n",
      "My name is Person-3 and I live in London\n",
      "My name is Person-4 and I live in London\n"
     ]
    }
   ],
   "source": [
    "'''Tip 3\n",
    "Pull constant statements out of loop '''\n",
    "for i in range(5):\n",
    "    city='London'\n",
    "    print(f'My name is Person-{i} and I live in {city}')\n",
    "\n",
    "print('\\n')\n",
    "city='London'\n",
    "for i in range(5):\n",
    "    print(f'My name is Person-{i} and I live in {city}')"
   ]
  },
  {
   "cell_type": "code",
   "execution_count": 40,
   "id": "dffbfed4",
   "metadata": {},
   "outputs": [
    {
     "name": "stdout",
     "output_type": "stream",
     "text": [
      "5\n",
      "5\n"
     ]
    }
   ],
   "source": [
    "'''Tip 4 \n",
    "Remove variables introduced & returned in the last line of the function'''\n",
    "#I generally use the 1st way\n",
    "def add(a,b):\n",
    "    c=a+b\n",
    "    return c\n",
    "print(add(2,3))\n",
    "\n",
    "def add(a,b):\n",
    "    return a+b\n",
    "print(add(2,3))"
   ]
  },
  {
   "cell_type": "code",
   "execution_count": 47,
   "id": "dbf7bf16",
   "metadata": {},
   "outputs": [
    {
     "name": "stdout",
     "output_type": "stream",
     "text": [
      "Hello\n",
      "Hello\n"
     ]
    }
   ],
   "source": [
    "'''Tip 5 \n",
    "Use if EXPRESSION instead of the usual if-else statement '''\n",
    "'Just use the 1st one in case of any doubts'\n",
    "x=10\n",
    "if x>1:\n",
    "    print('Hello')\n",
    "else:\n",
    "    print('No Hello')\n",
    "\n",
    "print('Hello') if (x>1) else print('No Hello')"
   ]
  },
  {
   "cell_type": "code",
   "execution_count": 49,
   "id": "f2c8cb1b",
   "metadata": {},
   "outputs": [],
   "source": [
    "'''Tip 6 \n",
    "Adding a guard clause instead of a introducing a number of indentation levels\n",
    "Remove unecceary else \n",
    "Explained more in the file Refactor2\n",
    "'''\n",
    "## Uneccesary indentations ##\n",
    "def should_i_wear_this_hat(hat):\n",
    "    if hat==True:\n",
    "        current_fashion=getfashion()\n",
    "        weather_outside=look_out_of_window()\n",
    "        is_stylish=evaluate_style(hat,current_fashion)\n",
    "        if weather_outside=='Raining':\n",
    "            print('Damn')\n",
    "            return True\n",
    "        else:\n",
    "            print('Great')\n",
    "            return is_stylish\n",
    "    else:\n",
    "        return False\n",
    "    \n",
    "## Adding a Guard clause ##\n",
    "\n",
    "def should_i_wear_this_hat(hat):\n",
    "    if hat == not True:\n",
    "        return False\n",
    "    current_fashion=getfashion()\n",
    "    weather_outside=look_out_of_window()\n",
    "    is_stylish=evaluate_style(hat,current_fashion)\n",
    "    if weather_outside=='Raining':\n",
    "        print('Damn')\n",
    "        return True\n",
    "    else:\n",
    "        print('Great')\n",
    "        return is_stylish\n"
   ]
  },
  {
   "cell_type": "code",
   "execution_count": 55,
   "id": "222a3750",
   "metadata": {},
   "outputs": [
    {
     "data": {
      "text/plain": [
       "True"
      ]
     },
     "execution_count": 55,
     "metadata": {},
     "output_type": "execute_result"
    }
   ],
   "source": [
    "'''Tip 7 \n",
    "Assign variable values closer to their usage'''\n",
    "'''Function is much more clear now'''\n",
    "\n",
    "def should_i_wear_this_hat(hat):\n",
    "    if hat == not True:\n",
    "        return False\n",
    "    \n",
    "    weather_outside=look_out_of_window()\n",
    "    if weather_outside=='Raining':\n",
    "        print('Damn')\n",
    "        return True\n",
    "    \n",
    "    else:\n",
    "        print('Great')\n",
    "        current_fashion=getfashion()\n",
    "        is_stylish=evaluate_style(hat,current_fashion)\n",
    "        return is_stylish\n"
   ]
  },
  {
   "cell_type": "code",
   "execution_count": 62,
   "id": "9457d40e",
   "metadata": {},
   "outputs": [],
   "source": [
    "'''Tip 8 \n",
    "Simpler way of checking IF length of iterable is NON-ZERO\n",
    "Original way is still preferable beacuse there is \n",
    "not much of a syntactical advantage of using the newer method'''\n",
    "# list_of_hats=['Fedora','Baseball']\n",
    "list_of_hats=[]\n",
    "if len(list_of_hats)>0:\n",
    "    print('Hello')\n",
    "#Empty iterable evaluates to false \n",
    "if list_of_hats:\n",
    "    print('Hello')\n"
   ]
  }
 ],
 "metadata": {
  "kernelspec": {
   "display_name": "torCH",
   "language": "python",
   "name": "torch"
  },
  "language_info": {
   "codemirror_mode": {
    "name": "ipython",
    "version": 3
   },
   "file_extension": ".py",
   "mimetype": "text/x-python",
   "name": "python",
   "nbconvert_exporter": "python",
   "pygments_lexer": "ipython3",
   "version": "3.9.7"
  }
 },
 "nbformat": 4,
 "nbformat_minor": 5
}
